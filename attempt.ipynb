{
 "cells": [
  {
   "cell_type": "code",
   "id": "3851e7387623cc92",
   "metadata": {
    "collapsed": true,
    "ExecuteTime": {
     "end_time": "2024-11-06T14:01:27.716577Z",
     "start_time": "2024-11-06T14:01:27.713289Z"
    }
   },
   "source": [
    "from transformers import AutoTokenizer, AutoModel, GPT2LMHeadModel\n",
    "import faiss\n",
    "import torch\n",
    "import os\n",
    "import numpy as np"
   ],
   "outputs": [],
   "execution_count": 9
  },
  {
   "metadata": {
    "ExecuteTime": {
     "end_time": "2024-11-06T14:01:27.731079Z",
     "start_time": "2024-11-06T14:01:27.727553Z"
    }
   },
   "cell_type": "code",
   "source": [
    "\n",
    "def read_text_files(directory_path):\n",
    "\t\"\"\"\n",
    "\tReads all .txt files in the specified directory, stores each file's content as a single string,\n",
    "\tand appends it to a main list.\n",
    "\t\n",
    "\tArgs:\n",
    "\t- directory_path (str): Path to the directory containing text files.\n",
    "\t\n",
    "\tReturns:\n",
    "\t- list of str: A list where each element is the content of a single text file.\n",
    "\t\"\"\"\n",
    "\tfile_contents = []  # List to hold the contents of each file as a single string\n",
    "\t\n",
    "\t# Iterate through all files in the directory\n",
    "\tfor filename in os.listdir(directory_path):\n",
    "\t\t# Check if the file is a .txt file\n",
    "\t\tif filename.endswith('.txt'):\n",
    "\t\t\tfile_path = os.path.join(directory_path, filename)\n",
    "\t\t\t# Open and read the file's content\n",
    "\t\t\twith open(file_path, 'r', encoding='utf-8') as file:\n",
    "\t\t\t\tcontent = file.read()  # Read the entire content of the file\n",
    "\t\t\t\tfile_contents.append(content)  # Append to the main list\n",
    "\t\n",
    "\treturn file_contents\n"
   ],
   "id": "4cbfa8be7e8cec02",
   "outputs": [],
   "execution_count": 10
  },
  {
   "metadata": {
    "ExecuteTime": {
     "end_time": "2024-11-06T14:01:27.741973Z",
     "start_time": "2024-11-06T14:01:27.732773Z"
    }
   },
   "cell_type": "code",
   "source": "text_chunks = read_text_files('data')",
   "id": "b69c7e0d7280d055",
   "outputs": [],
   "execution_count": 11
  },
  {
   "metadata": {
    "ExecuteTime": {
     "end_time": "2024-11-06T14:01:28.959874Z",
     "start_time": "2024-11-06T14:01:27.743216Z"
    }
   },
   "cell_type": "code",
   "source": [
    "\n",
    "# Load embedding and generation models\n",
    "embedder = AutoModel.from_pretrained(\"sentence-transformers/all-MiniLM-L6-v2\")\n",
    "tokenizer = AutoTokenizer.from_pretrained(\"gpt2\")\n",
    "generator = GPT2LMHeadModel.from_pretrained(\"gpt2\")\n",
    "\n",
    "def create_embeddings(text_chunks):\n",
    "\tchunk_embeddings = []\n",
    "\t\n",
    "\tfor i, chunk in enumerate(text_chunks):\n",
    "\t\t# Skip empty chunks\n",
    "\t\tif not chunk.strip():\n",
    "\t\t\tprint(f\"Skipping empty chunk at index {i}\")\n",
    "\t\t\tcontinue\n",
    "\t\t\n",
    "\t\ttry:\n",
    "\t\t\t# Tokenize with truncation\n",
    "\t\t\tinputs = tokenizer(chunk, return_tensors=\"pt\", truncation=True)\n",
    "\t\t\t\n",
    "\t\t\t# Generate embeddings\n",
    "\t\t\twith torch.no_grad():\n",
    "\t\t\t\tembedding = embedder(**inputs).last_hidden_state.mean(dim=1).numpy()\n",
    "\t\t\tchunk_embeddings.append(embedding)\n",
    "\t\t\n",
    "\t\texcept IndexError as e:\n",
    "\t\t\tprint(f\"Error at chunk {i}: {e}\")\n",
    "\t\texcept Exception as e:\n",
    "\t\t\tprint(f\"Unexpected error at chunk {i}: {e}\")\n",
    "\t\n",
    "\treturn chunk_embeddings\n",
    "\n",
    "# Example usage\n",
    "chunk_embeddings = create_embeddings(text_chunks)"
   ],
   "id": "b2d422da7895a43b",
   "outputs": [
    {
     "name": "stdout",
     "output_type": "stream",
     "text": [
      "Error at chunk 0: index out of range in self\n",
      "Error at chunk 1: index out of range in self\n",
      "Error at chunk 2: index out of range in self\n",
      "Error at chunk 3: index out of range in self\n",
      "Error at chunk 5: index out of range in self\n",
      "Error at chunk 6: index out of range in self\n",
      "Error at chunk 7: index out of range in self\n",
      "Error at chunk 8: index out of range in self\n",
      "Unexpected error at chunk 9: The expanded size of the tensor (562) must match the existing size (512) at non-singleton dimension 1.  Target sizes: [1, 562].  Tensor sizes: [1, 512]\n",
      "Error at chunk 10: index out of range in self\n",
      "Error at chunk 11: index out of range in self\n",
      "Error at chunk 12: index out of range in self\n"
     ]
    }
   ],
   "execution_count": 12
  },
  {
   "metadata": {
    "ExecuteTime": {
     "end_time": "2024-11-06T14:01:28.966168Z",
     "start_time": "2024-11-06T14:01:28.960928Z"
    }
   },
   "cell_type": "code",
   "source": [
    "# Set up FAISS\n",
    "dimension = chunk_embeddings[0].shape[1]\n",
    "index = faiss.IndexFlatL2(dimension)\n",
    "index.add(np.vstack(chunk_embeddings))"
   ],
   "id": "56cfc99dc9b2bd05",
   "outputs": [],
   "execution_count": 13
  },
  {
   "metadata": {
    "ExecuteTime": {
     "end_time": "2024-11-06T14:01:28.989619Z",
     "start_time": "2024-11-06T14:01:28.967746Z"
    }
   },
   "cell_type": "code",
   "source": [
    "\n",
    "# Query workflow\n",
    "query = \"Can i get money for a canceled flight?\"\n",
    "query_embedding = embedder(**tokenizer(query, return_tensors=\"pt\")).last_hidden_state.mean(dim=1).detach().numpy()\n",
    "distances, indices = index.search(query_embedding, k=3)  # retrieve top-5 relevant chunks"
   ],
   "id": "779f26513d2da656",
   "outputs": [],
   "execution_count": 14
  },
  {
   "metadata": {
    "ExecuteTime": {
     "end_time": "2024-11-06T14:01:28.999760Z",
     "start_time": "2024-11-06T14:01:28.990402Z"
    }
   },
   "cell_type": "code",
   "source": [
    "tokenizer.add_special_tokens({\"pad_token\": \"--\"})\n",
    "context = \" \".join([text_chunks[i] for i in indices[0]])\n",
    "input_text = f\"Context: {context}\\n\\nQuery: {query}\\nAnswer:\"\n",
    "inputs = tokenizer(input_text, return_tensors=\"pt\", padding=True, truncation=True)\n",
    "attention_mask = inputs['attention_mask']\n",
    "\n",
    "# Set pad_token_id to eos_token_id if it’s not already set\n",
    "if generator.config.pad_token_id is None:\n",
    "\tgenerator.config.pad_token_id = generator.config.eos_token_id\n",
    "\n"
   ],
   "id": "625bee93059796b2",
   "outputs": [],
   "execution_count": 15
  },
  {
   "metadata": {
    "ExecuteTime": {
     "end_time": "2024-11-06T14:05:35.479917Z",
     "start_time": "2024-11-06T14:05:25.716381Z"
    }
   },
   "cell_type": "code",
   "source": [
    "# Generate output with attention mask\n",
    "output = generator.generate(inputs['input_ids'], attention_mask=attention_mask, max_length=1_000)\n",
    "answer = tokenizer.decode(output[0], skip_special_tokens=True)\n",
    "print(answer)\n"
   ],
   "id": "initial_id",
   "outputs": [
    {
     "name": "stderr",
     "output_type": "stream",
     "text": [
      "Setting `pad_token_id` to `eos_token_id`:None for open-end generation.\n"
     ]
    },
    {
     "name": "stdout",
     "output_type": "stream",
     "text": [
      "Context: Your flight was overbooked\n",
      "\n",
      "If you have presented yourself on time for the check-in with a valid flight reservation and travel documentation and you're denied boarding due to overbooking or for operational reasons, and you don't voluntarily give up your seat, you are entitled to:\n",
      "\n",
      "    compensation\n",
      "    the right to choose between reimbursement, re-routing or rebooking at a later stage and\n",
      "    assistance from the airline\n",
      " Delay\n",
      "\n",
      "If your flight is delayed at departure, you have the right to assistance, to reimbursement and a return flight, depending on the duration of the delay and the distance of the flight.\n",
      "\n",
      "If you arrived at your final destination with a delay of more than 3 hours, you are entitled to compensation, unless the delay was due to extraordinary circumstances. The airline has to prove this by providing, for example, extracts from logbooks or incident reports. The air carrier should give this evidence to the relevant national enforcement body as well as to the passengers concerned in line with national provisions on access to documents.\n",
      "Travelling from the UK to an EU country\n",
      "\n",
      "From 1 January 2021, EU rules on air passenger rights do not apply to cases of denied boarding, cancellations or delays to flights from the UK to the EU if your flight was operated by a UK carrier or another non-EU carrier, even if you booked your flight before this date. However, EU rules continue to apply from 1 January 2021 if your flight from the UK to the EU was operated by an EU carrier, unless you have already received compensation or benefits under UK law.\n",
      "\n",
      "A printed or electronic notice informing you of your EU air passenger rights must be clearly displayed at the airport check-in desk, at check-in kiosks and on-line. If you were denied boarding, your flight was cancelled, you experienced a delay of more than 2 hours at departure or you arrive with a long delay at your final destination, the airline must give you a written notice setting out the rules for compensation and assistance.\n",
      " Delay\n",
      "\n",
      "If your flight is delayed at departure, you have the right to assistance, to reimbursement and a return flight, depending on the duration of the delay and the distance of the flight.\n",
      "\n",
      "If you arrived at your final destination with a delay of more than 3 hours, you are entitled to compensation, unless the delay was due to extraordinary circumstances. The airline has to prove this by providing, for example, extracts from logbooks or incident reports. The air carrier should give this evidence to the relevant national enforcement body as well as to the passengers concerned in line with national provisions on access to documents.\n",
      "Travelling from the UK to an EU country\n",
      "\n",
      "From 1 January 2021, EU rules on air passenger rights do not apply to cases of denied boarding, cancellations or delays to flights from the UK to the EU if your flight was operated by a UK carrier or another non-EU carrier, even if you booked your flight before this date. However, EU rules continue to apply from 1 January 2021 if your flight from the UK to the EU was operated by an EU carrier, unless you have already received compensation or benefits under UK law.\n",
      "\n",
      "A printed or electronic notice informing you of your EU air passenger rights must be clearly displayed at the airport check-in desk, at check-in kiosks and on-line. If you were denied boarding, your flight was cancelled, you experienced a delay of more than 2 hours at departure or you arrive with a long delay at your final destination, the airline must give you a written notice setting out the rules for compensation and assistance.\n",
      "\n",
      "\n",
      "Query: Can i get money for a canceled flight?\n",
      "Answer: Yes.\n",
      "\n",
      "If you are a passenger travelling from the UK to an EU country, you can get money for a cancelled flight by contacting the airline.\n",
      "\n",
      "If you are a passenger travelling from the UK to an EU country, you can get money for a cancelled flight by contacting the airline.\n",
      "\n",
      "If you are a passenger travelling from the UK to an EU country, you can get money for a cancelled flight by contacting the airline.\n",
      "\n",
      "If you are a passenger travelling from the UK to an EU country, you can get money for a cancelled flight by contacting the airline.\n",
      "\n",
      "If you are a passenger travelling from the UK to an EU country, you can get money for a cancelled flight by contacting the airline.\n",
      "\n",
      "If you are a passenger travelling from the UK to an EU country, you can get money for a cancelled flight by contacting the airline.\n",
      "\n",
      "If you are a passenger travelling from the UK to an EU country, you can get money for a cancelled flight by contacting the airline.\n",
      "\n",
      "If you are a passenger travelling from the UK to an EU country, you can get money for a cancelled flight by contacting the airline.\n",
      "\n",
      "If you are a passenger travelling from\n"
     ]
    }
   ],
   "execution_count": 18
  },
  {
   "metadata": {
    "ExecuteTime": {
     "end_time": "2024-11-06T14:01:37.938047Z",
     "start_time": "2024-11-06T14:01:37.936212Z"
    }
   },
   "cell_type": "code",
   "source": "",
   "id": "9c528ab745f84e12",
   "outputs": [],
   "execution_count": 16
  }
 ],
 "metadata": {
  "kernelspec": {
   "display_name": "Python 3",
   "language": "python",
   "name": "python3"
  },
  "language_info": {
   "codemirror_mode": {
    "name": "ipython",
    "version": 2
   },
   "file_extension": ".py",
   "mimetype": "text/x-python",
   "name": "python",
   "nbconvert_exporter": "python",
   "pygments_lexer": "ipython2",
   "version": "2.7.6"
  }
 },
 "nbformat": 4,
 "nbformat_minor": 5
}
